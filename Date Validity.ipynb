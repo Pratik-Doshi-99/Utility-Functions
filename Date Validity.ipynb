{
 "cells": [
  {
   "cell_type": "markdown",
   "metadata": {},
   "source": [
    "# Checking for date validity"
   ]
  },
  {
   "cell_type": "markdown",
   "metadata": {},
   "source": [
    "The function datenumber_validity takes in integers representing the date, month and year.\n",
    "The 4 if statements cover the 4 conditions in which a date is invalid:\n",
    "   1) More than 31 days in months in List1\n",
    "   2) More than 30 days in months in List2\n",
    "   3) More than 28 days in Feb in a non leap year (and more than 29 days in a leap year)\n",
    "   4) Months greater than 12"
   ]
  },
  {
   "cell_type": "code",
   "execution_count": 9,
   "metadata": {},
   "outputs": [],
   "source": [
    "def datenumber_validity(d,m,y):\n",
    "    List1 = [1,3,5,7,8,10,12]  # for months with 31 days\n",
    "    List2 = [4,6,9,11]         # for months with 30 days\n",
    "    \n",
    "    Days_in_Feb = 29\n",
    "    \n",
    "    if(y%4==0):                     # checking for a leap year\n",
    "        temp = 30\n",
    "    \n",
    "    if((m in List1) and (not(d in range(32)))):\n",
    "        return False\n",
    "    if((m in List2) and (not(d in range(31)))):\n",
    "        return False\n",
    "    if(m==2 and not(d in range(Days_in_Feb))):\n",
    "        return False\n",
    "    if(m>12 or m<1):\n",
    "        return False\n",
    "\n",
    "    return True"
   ]
  },
  {
   "cell_type": "markdown",
   "metadata": {},
   "source": [
    "The function date_validity extracts the integer representations of a date entered as a string. It accept '.','/' or '-' as a delimiter, separating day, month and year. It then uses the datenumber_validity function to complete the process.\n",
    "index1 is the index position of the first occurance of the delimiter\n",
    "index2 is the index position of the second occurance of the delimiter"
   ]
  },
  {
   "cell_type": "code",
   "execution_count": 8,
   "metadata": {},
   "outputs": [],
   "source": [
    "def date_validity(date):\n",
    "    #checks whether a date in the form of a string is valid. Assumes dd-mm-yyyy as date format\n",
    "    index1 = date.find('.')\n",
    "    if(index1>0):\n",
    "        delim = '.'\n",
    "    else:\n",
    "        index1 = date.find('-')\n",
    "        if(index1>0):\n",
    "            delim = '-'\n",
    "        else:\n",
    "            index1 = date.find('/')\n",
    "            if(index1>0):\n",
    "                delim = '/'\n",
    "            else:\n",
    "                return False\n",
    "\n",
    "    index2 = date.find(delim,index1+1)\n",
    "    dd = int(date[0:index1])\n",
    "    mm = int(date[index1+1:index2])\n",
    "    yyyy = int(date[index2+1:])\n",
    "    \n",
    "    \n",
    "    return datenumber_validity(dd,mm,yyyy)"
   ]
  },
  {
   "cell_type": "code",
   "execution_count": 10,
   "metadata": {},
   "outputs": [
    {
     "data": {
      "text/plain": [
       "True"
      ]
     },
     "execution_count": 10,
     "metadata": {},
     "output_type": "execute_result"
    }
   ],
   "source": [
    "date_validity(\"01.12.2017\")"
   ]
  }
 ],
 "metadata": {
  "kernelspec": {
   "display_name": "Python 3",
   "language": "python",
   "name": "python3"
  },
  "language_info": {
   "codemirror_mode": {
    "name": "ipython",
    "version": 3
   },
   "file_extension": ".py",
   "mimetype": "text/x-python",
   "name": "python",
   "nbconvert_exporter": "python",
   "pygments_lexer": "ipython3",
   "version": "3.7.2"
  }
 },
 "nbformat": 4,
 "nbformat_minor": 2
}
