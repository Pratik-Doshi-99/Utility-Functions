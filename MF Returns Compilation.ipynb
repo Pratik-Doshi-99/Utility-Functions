{
 "cells": [
  {
   "cell_type": "raw",
   "metadata": {},
   "source": [
    "Change the file locations of all the functions to wherever the MF NAVs Folder is located"
   ]
  },
  {
   "cell_type": "code",
   "execution_count": 2,
   "metadata": {},
   "outputs": [],
   "source": [
    "import pandas as pd\n",
    "import numpy as np\n",
    "import matplotlib.pyplot as plt"
   ]
  },
  {
   "cell_type": "markdown",
   "metadata": {},
   "source": [
    "# Testing the Data in File"
   ]
  },
  {
   "cell_type": "code",
   "execution_count": 3,
   "metadata": {},
   "outputs": [],
   "source": [
    "df = pd.read_excel(r'Z:\\Downloads\\MF NAVs\\Medium\\Mutual-Funds-India-Historical-NAV-Report (9).xlsx')"
   ]
  },
  {
   "cell_type": "code",
   "execution_count": 4,
   "metadata": {},
   "outputs": [
    {
     "data": {
      "text/html": [
       "<div>\n",
       "<style scoped>\n",
       "    .dataframe tbody tr th:only-of-type {\n",
       "        vertical-align: middle;\n",
       "    }\n",
       "\n",
       "    .dataframe tbody tr th {\n",
       "        vertical-align: top;\n",
       "    }\n",
       "\n",
       "    .dataframe thead th {\n",
       "        text-align: right;\n",
       "    }\n",
       "</style>\n",
       "<table border=\"1\" class=\"dataframe\">\n",
       "  <thead>\n",
       "    <tr style=\"text-align: right;\">\n",
       "      <th></th>\n",
       "      <th>Unnamed: 0</th>\n",
       "      <th>Unnamed: 1</th>\n",
       "    </tr>\n",
       "  </thead>\n",
       "  <tbody>\n",
       "    <tr>\n",
       "      <th>0</th>\n",
       "      <td>Historical Mutual Fund NAV of Kotak Medium Ter...</td>\n",
       "      <td>NaN</td>\n",
       "    </tr>\n",
       "    <tr>\n",
       "      <th>1</th>\n",
       "      <td>scheme:- Kotak Medium Term Fund - Direct Growth</td>\n",
       "      <td>NaN</td>\n",
       "    </tr>\n",
       "    <tr>\n",
       "      <th>2</th>\n",
       "      <td>Start Date:- 21-03-2014</td>\n",
       "      <td>NaN</td>\n",
       "    </tr>\n",
       "    <tr>\n",
       "      <th>3</th>\n",
       "      <td>End Date:- 20-05-2020</td>\n",
       "      <td>NaN</td>\n",
       "    </tr>\n",
       "    <tr>\n",
       "      <th>4</th>\n",
       "      <td>NAV Date</td>\n",
       "      <td>NAV (Rs)</td>\n",
       "    </tr>\n",
       "    <tr>\n",
       "      <th>5</th>\n",
       "      <td>20-05-2020</td>\n",
       "      <td>16.9718</td>\n",
       "    </tr>\n",
       "  </tbody>\n",
       "</table>\n",
       "</div>"
      ],
      "text/plain": [
       "                                          Unnamed: 0 Unnamed: 1\n",
       "0  Historical Mutual Fund NAV of Kotak Medium Ter...        NaN\n",
       "1    scheme:- Kotak Medium Term Fund - Direct Growth        NaN\n",
       "2                            Start Date:- 21-03-2014        NaN\n",
       "3                              End Date:- 20-05-2020        NaN\n",
       "4                                           NAV Date   NAV (Rs)\n",
       "5                                         20-05-2020    16.9718"
      ]
     },
     "execution_count": 4,
     "metadata": {},
     "output_type": "execute_result"
    }
   ],
   "source": [
    "df.head(6)"
   ]
  },
  {
   "cell_type": "code",
   "execution_count": 5,
   "metadata": {},
   "outputs": [],
   "source": [
    "df.columns = list(df.iloc[4,:])\n",
    "df2 = df.drop([0,1,2,3,4])\n",
    "df2['NAV Date'] = pd.to_datetime(df2['NAV Date'], infer_datetime_format = True, format = '%d/%m/%y', dayfirst=True)"
   ]
  },
  {
   "cell_type": "code",
   "execution_count": 6,
   "metadata": {},
   "outputs": [
    {
     "data": {
      "text/plain": [
       "5    2020-05-20\n",
       "6    2020-05-19\n",
       "7    2020-05-18\n",
       "8    2020-05-15\n",
       "9    2020-05-14\n",
       "        ...    \n",
       "65   2020-02-11\n",
       "66   2020-02-10\n",
       "67   2020-02-07\n",
       "68   2020-02-06\n",
       "69   2020-02-05\n",
       "Name: NAV Date, Length: 65, dtype: datetime64[ns]"
      ]
     },
     "execution_count": 6,
     "metadata": {},
     "output_type": "execute_result"
    }
   ],
   "source": [
    "df2['NAV Date'].head(65)"
   ]
  },
  {
   "cell_type": "code",
   "execution_count": 9,
   "metadata": {},
   "outputs": [
    {
     "data": {
      "text/plain": [
       "'Kotak Medium Term Fund - Direct Growth'"
      ]
     },
     "execution_count": 9,
     "metadata": {},
     "output_type": "execute_result"
    }
   ],
   "source": [
    "row = df.iloc[1,0][9:]\n",
    "row"
   ]
  },
  {
   "cell_type": "code",
   "execution_count": 110,
   "metadata": {},
   "outputs": [],
   "source": [
    "#1m, 3m, 6m, 1y, 2y, 3y, 5y,10y\n",
    "dates = pd.Series(['21-04-2020','20-02-2020','23-12-2019','21-05-2019','21-05-2018','22-05-2017','21-05-2015','24-05-2010'])\n",
    "dates = list(pd.to_datetime(dates))"
   ]
  },
  {
   "cell_type": "code",
   "execution_count": 113,
   "metadata": {},
   "outputs": [
    {
     "data": {
      "text/plain": [
       "Timestamp('2014-03-21 00:00:00')"
      ]
     },
     "execution_count": 113,
     "metadata": {},
     "output_type": "execute_result"
    }
   ],
   "source": [
    "df2['NAV Date'].min()"
   ]
  },
  {
   "cell_type": "code",
   "execution_count": 115,
   "metadata": {},
   "outputs": [
    {
     "data": {
      "text/plain": [
       "61"
      ]
     },
     "execution_count": 115,
     "metadata": {},
     "output_type": "execute_result"
    }
   ],
   "source": [
    "(dates[0]-dates[1]).days"
   ]
  },
  {
   "cell_type": "code",
   "execution_count": 131,
   "metadata": {},
   "outputs": [
    {
     "data": {
      "text/plain": [
       "Timestamp('2020-04-21 00:00:00')"
      ]
     },
     "execution_count": 131,
     "metadata": {},
     "output_type": "execute_result"
    }
   ],
   "source": [
    "df2[df2['NAV Date'] == dates[0]].iloc[0,0]"
   ]
  },
  {
   "cell_type": "code",
   "execution_count": 157,
   "metadata": {},
   "outputs": [
    {
     "data": {
      "text/plain": [
       "0"
      ]
     },
     "execution_count": 157,
     "metadata": {},
     "output_type": "execute_result"
    }
   ],
   "source": [
    "len(df2[df2['NAV Date'] == dates[-1]])"
   ]
  },
  {
   "cell_type": "code",
   "execution_count": null,
   "metadata": {},
   "outputs": [],
   "source": [
    "import os\n",
    "for _,direc,files in os.walk(r'Z:\\Downloads\\MF NAVs'):\n",
    "    print(direc)"
   ]
  },
  {
   "cell_type": "markdown",
   "metadata": {},
   "source": [
    "# Main Algorithm"
   ]
  },
  {
   "cell_type": "code",
   "execution_count": 165,
   "metadata": {},
   "outputs": [],
   "source": [
    "dates = pd.Series(['21-04-2020','20-02-2020','23-12-2019','21-05-2019','21-05-2018','22-05-2017','21-05-2015','24-05-2010'])\n",
    "dates = list(pd.to_datetime(dates))"
   ]
  },
  {
   "cell_type": "code",
   "execution_count": 209,
   "metadata": {},
   "outputs": [],
   "source": [
    "def CAGR(d1,d2,v1,v2):\n",
    "    period = (d2-d1).days/365.0\n",
    "    return ((v2/float(v1))**(1/period))-1\n",
    "\n",
    "def compile(df):\n",
    "    row = [df['Unnamed: 0'].iloc[1][9:]]\n",
    "    df.columns = list(df.iloc[4,:])\n",
    "    df.drop([0,1,2,3,4],inplace = True)\n",
    "    df['NAV Date'] = pd.to_datetime(df['NAV Date'], infer_datetime_format = True, format = '%d/%m/%y', dayfirst=True)\n",
    "    for d in dates:\n",
    "        temp = df[df['NAV Date'] == d]\n",
    "        if(len(temp) == 0):\n",
    "            row.append(np.nan)\n",
    "            continue\n",
    "        cagr = CAGR(temp.iloc[0,0], df.iloc[0,0],temp.iloc[0,1],df.iloc[0,1])\n",
    "        row.append(cagr)\n",
    "    doc.append(row)"
   ]
  },
  {
   "cell_type": "code",
   "execution_count": 125,
   "metadata": {},
   "outputs": [
    {
     "data": {
      "text/plain": [
       "10.315162943714503"
      ]
     },
     "execution_count": 125,
     "metadata": {},
     "output_type": "execute_result"
    }
   ],
   "source": [
    "#testing CAGR function\n",
    "CAGR(dates[1],dates[0],100,150)"
   ]
  },
  {
   "cell_type": "code",
   "execution_count": 213,
   "metadata": {},
   "outputs": [],
   "source": [
    "doc = [['Fund','21-04-2020','20-02-2020','23-12-2019','21-05-2019','21-05-2018','22-05-2017','21-05-2015','24-05-2010']]"
   ]
  },
  {
   "cell_type": "code",
   "execution_count": 214,
   "metadata": {},
   "outputs": [
    {
     "data": {
      "text/plain": [
       "1"
      ]
     },
     "execution_count": 214,
     "metadata": {},
     "output_type": "execute_result"
    }
   ],
   "source": [
    "len(doc)"
   ]
  },
  {
   "cell_type": "code",
   "execution_count": 215,
   "metadata": {},
   "outputs": [
    {
     "name": "stdout",
     "output_type": "stream",
     "text": [
      "Mutual-Funds-India-Historical-NAV-Report (1).xlsx\n",
      "Mutual-Funds-India-Historical-NAV-Report (10).xlsx\n",
      "Mutual-Funds-India-Historical-NAV-Report (2).xlsx\n",
      "Mutual-Funds-India-Historical-NAV-Report (3).xlsx\n",
      "Mutual-Funds-India-Historical-NAV-Report (4).xlsx\n",
      "Mutual-Funds-India-Historical-NAV-Report (5).xlsx\n",
      "Mutual-Funds-India-Historical-NAV-Report (6).xlsx\n",
      "Mutual-Funds-India-Historical-NAV-Report (7).xlsx\n",
      "Mutual-Funds-India-Historical-NAV-Report (8).xlsx\n",
      "Mutual-Funds-India-Historical-NAV-Report (9).xlsx\n",
      "11\n"
     ]
    }
   ],
   "source": [
    "for _,direc,files in os.walk(r'Z:\\Downloads\\MF NAVs\\Long'):\n",
    "    for f in files:\n",
    "        print(f)\n",
    "        compile(pd.read_excel('Z:\\\\Downloads\\\\MF NAVs\\\\Long\\\\' + f))\n",
    "print(len(doc))"
   ]
  },
  {
   "cell_type": "code",
   "execution_count": 216,
   "metadata": {},
   "outputs": [
    {
     "name": "stdout",
     "output_type": "stream",
     "text": [
      "Mutual-Funds-India-Historical-NAV-Report (1).xlsx\n",
      "Mutual-Funds-India-Historical-NAV-Report (10).xlsx\n",
      "Mutual-Funds-India-Historical-NAV-Report (11).xlsx\n",
      "Mutual-Funds-India-Historical-NAV-Report (3).xlsx\n",
      "Mutual-Funds-India-Historical-NAV-Report (4).xlsx\n",
      "Mutual-Funds-India-Historical-NAV-Report (5).xlsx\n",
      "Mutual-Funds-India-Historical-NAV-Report (6).xlsx\n",
      "Mutual-Funds-India-Historical-NAV-Report (7).xlsx\n",
      "Mutual-Funds-India-Historical-NAV-Report (8).xlsx\n",
      "Mutual-Funds-India-Historical-NAV-Report (9).xlsx\n",
      "21\n"
     ]
    }
   ],
   "source": [
    "for _,direc,files in os.walk(r'Z:\\Downloads\\MF NAVs\\Medium'):\n",
    "    for f in files:\n",
    "        print(f)\n",
    "        compile(pd.read_excel('Z:\\\\Downloads\\\\MF NAVs\\\\Medium\\\\' + f))\n",
    "        \n",
    "        \n",
    "print(len(doc))"
   ]
  },
  {
   "cell_type": "code",
   "execution_count": 217,
   "metadata": {},
   "outputs": [
    {
     "name": "stdout",
     "output_type": "stream",
     "text": [
      "Mutual-Funds-India-Historical-NAV-Report (1).xlsx\n",
      "Mutual-Funds-India-Historical-NAV-Report (2).xlsx\n",
      "Mutual-Funds-India-Historical-NAV-Report (3).xlsx\n",
      "Mutual-Funds-India-Historical-NAV-Report (4).xlsx\n",
      "Mutual-Funds-India-Historical-NAV-Report (5).xlsx\n",
      "Mutual-Funds-India-Historical-NAV-Report (6).xlsx\n",
      "Mutual-Funds-India-Historical-NAV-Report (7).xlsx\n",
      "Mutual-Funds-India-Historical-NAV-Report (8).xlsx\n",
      "Mutual-Funds-India-Historical-NAV-Report (9).xlsx\n",
      "Mutual-Funds-India-Historical-NAV-Report.xlsx\n",
      "31\n"
     ]
    }
   ],
   "source": [
    "for _,direc,files in os.walk(r'Z:\\Downloads\\MF NAVs\\Short'):\n",
    "    for f in files:\n",
    "        print(f)\n",
    "        compile(pd.read_excel('Z:\\\\Downloads\\\\MF NAVs\\\\Short\\\\' + f))\n",
    "print(len(doc))"
   ]
  },
  {
   "cell_type": "code",
   "execution_count": 218,
   "metadata": {},
   "outputs": [
    {
     "name": "stdout",
     "output_type": "stream",
     "text": [
      "Mutual-Funds-India-Historical-NAV-Report (1).xlsx\n",
      "Mutual-Funds-India-Historical-NAV-Report (2).xlsx\n",
      "Mutual-Funds-India-Historical-NAV-Report (3).xlsx\n",
      "Mutual-Funds-India-Historical-NAV-Report (4).xlsx\n",
      "Mutual-Funds-India-Historical-NAV-Report (5).xlsx\n",
      "Mutual-Funds-India-Historical-NAV-Report (6).xlsx\n",
      "Mutual-Funds-India-Historical-NAV-Report (7).xlsx\n",
      "Mutual-Funds-India-Historical-NAV-Report (8).xlsx\n",
      "Mutual-Funds-India-Historical-NAV-Report (9).xlsx\n",
      "Mutual-Funds-India-Historical-NAV-Report.xlsx\n",
      "41\n"
     ]
    }
   ],
   "source": [
    "for _,direc,files in os.walk(r'Z:\\Downloads\\MF NAVs\\Ultra Short'):\n",
    "    for f in files:\n",
    "        print(f)\n",
    "        compile(pd.read_excel('Z:\\\\Downloads\\\\MF NAVs\\\\Ultra Short\\\\' + f))\n",
    "print(len(doc))"
   ]
  },
  {
   "cell_type": "code",
   "execution_count": 225,
   "metadata": {},
   "outputs": [],
   "source": [
    "final = pd.DataFrame(doc[1:], columns = doc[0])"
   ]
  },
  {
   "cell_type": "code",
   "execution_count": 226,
   "metadata": {},
   "outputs": [
    {
     "data": {
      "text/html": [
       "<div>\n",
       "<style scoped>\n",
       "    .dataframe tbody tr th:only-of-type {\n",
       "        vertical-align: middle;\n",
       "    }\n",
       "\n",
       "    .dataframe tbody tr th {\n",
       "        vertical-align: top;\n",
       "    }\n",
       "\n",
       "    .dataframe thead th {\n",
       "        text-align: right;\n",
       "    }\n",
       "</style>\n",
       "<table border=\"1\" class=\"dataframe\">\n",
       "  <thead>\n",
       "    <tr style=\"text-align: right;\">\n",
       "      <th></th>\n",
       "      <th>Fund</th>\n",
       "      <th>21-04-2020</th>\n",
       "      <th>20-02-2020</th>\n",
       "      <th>23-12-2019</th>\n",
       "      <th>21-05-2019</th>\n",
       "      <th>21-05-2018</th>\n",
       "      <th>22-05-2017</th>\n",
       "      <th>21-05-2015</th>\n",
       "      <th>24-05-2010</th>\n",
       "    </tr>\n",
       "  </thead>\n",
       "  <tbody>\n",
       "    <tr>\n",
       "      <th>0</th>\n",
       "      <td>Aditya Birla Sun Life Income Fund - Growth - D...</td>\n",
       "      <td>0.221358</td>\n",
       "      <td>0.122957</td>\n",
       "      <td>0.157150</td>\n",
       "      <td>0.134349</td>\n",
       "      <td>0.115118</td>\n",
       "      <td>0.082714</td>\n",
       "      <td>0.087387</td>\n",
       "      <td>NaN</td>\n",
       "    </tr>\n",
       "    <tr>\n",
       "      <th>1</th>\n",
       "      <td>Bharat Bond FOF - April 2030 - Direct Plan - G...</td>\n",
       "      <td>0.188417</td>\n",
       "      <td>0.123751</td>\n",
       "      <td>NaN</td>\n",
       "      <td>NaN</td>\n",
       "      <td>NaN</td>\n",
       "      <td>NaN</td>\n",
       "      <td>NaN</td>\n",
       "      <td>NaN</td>\n",
       "    </tr>\n",
       "    <tr>\n",
       "      <th>2</th>\n",
       "      <td>ICICI Prudential Long Term Bond Fund - Direct ...</td>\n",
       "      <td>0.259098</td>\n",
       "      <td>0.151001</td>\n",
       "      <td>0.180624</td>\n",
       "      <td>0.165579</td>\n",
       "      <td>0.137998</td>\n",
       "      <td>0.100780</td>\n",
       "      <td>0.104081</td>\n",
       "      <td>NaN</td>\n",
       "    </tr>\n",
       "    <tr>\n",
       "      <th>3</th>\n",
       "      <td>Kotak Corporate Bond Fund- Direct Plan- Growth...</td>\n",
       "      <td>0.117502</td>\n",
       "      <td>0.078697</td>\n",
       "      <td>0.088829</td>\n",
       "      <td>0.096323</td>\n",
       "      <td>0.093765</td>\n",
       "      <td>0.084840</td>\n",
       "      <td>0.086142</td>\n",
       "      <td>NaN</td>\n",
       "    </tr>\n",
       "    <tr>\n",
       "      <th>4</th>\n",
       "      <td>IDFC Bond Fund - Income Plan - Direct Plan-Growth</td>\n",
       "      <td>0.284642</td>\n",
       "      <td>0.185745</td>\n",
       "      <td>0.183426</td>\n",
       "      <td>0.154405</td>\n",
       "      <td>0.126871</td>\n",
       "      <td>0.088389</td>\n",
       "      <td>0.093852</td>\n",
       "      <td>NaN</td>\n",
       "    </tr>\n",
       "  </tbody>\n",
       "</table>\n",
       "</div>"
      ],
      "text/plain": [
       "                                                Fund  21-04-2020  20-02-2020  \\\n",
       "0  Aditya Birla Sun Life Income Fund - Growth - D...    0.221358    0.122957   \n",
       "1  Bharat Bond FOF - April 2030 - Direct Plan - G...    0.188417    0.123751   \n",
       "2  ICICI Prudential Long Term Bond Fund - Direct ...    0.259098    0.151001   \n",
       "3  Kotak Corporate Bond Fund- Direct Plan- Growth...    0.117502    0.078697   \n",
       "4  IDFC Bond Fund - Income Plan - Direct Plan-Growth    0.284642    0.185745   \n",
       "\n",
       "   23-12-2019  21-05-2019  21-05-2018  22-05-2017  21-05-2015  24-05-2010  \n",
       "0    0.157150    0.134349    0.115118    0.082714    0.087387         NaN  \n",
       "1         NaN         NaN         NaN         NaN         NaN         NaN  \n",
       "2    0.180624    0.165579    0.137998    0.100780    0.104081         NaN  \n",
       "3    0.088829    0.096323    0.093765    0.084840    0.086142         NaN  \n",
       "4    0.183426    0.154405    0.126871    0.088389    0.093852         NaN  "
      ]
     },
     "execution_count": 226,
     "metadata": {},
     "output_type": "execute_result"
    }
   ],
   "source": [
    "final.head()"
   ]
  },
  {
   "cell_type": "code",
   "execution_count": 227,
   "metadata": {},
   "outputs": [],
   "source": [
    "final.to_csv(r'Z:\\Downloads\\Compiled.csv')"
   ]
  }
 ],
 "metadata": {
  "kernelspec": {
   "display_name": "Python 3",
   "language": "python",
   "name": "python3"
  },
  "language_info": {
   "codemirror_mode": {
    "name": "ipython",
    "version": 3
   },
   "file_extension": ".py",
   "mimetype": "text/x-python",
   "name": "python",
   "nbconvert_exporter": "python",
   "pygments_lexer": "ipython3",
   "version": "3.7.2"
  }
 },
 "nbformat": 4,
 "nbformat_minor": 2
}
